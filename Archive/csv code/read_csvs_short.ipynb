{
 "cells": [
  {
   "cell_type": "markdown",
   "metadata": {},
   "source": [
    "### Read and process a single CSV file based on the desired headers"
   ]
  },
  {
   "cell_type": "code",
   "execution_count": 1,
   "metadata": {},
   "outputs": [
    {
     "name": "stdout",
     "output_type": "stream",
     "text": [
      "+---------------------------------------------+------------+-----------+\n",
      "| Stimulus                                    |   Response | Emotion   |\n",
      "+=============================================+============+===========+\n",
      "| videos\\1 excited\\1 motorsports\\kenMiles.mp4 |          4 | excited   |\n",
      "+---------------------------------------------+------------+-----------+\n",
      "| videos\\2 happy\\scooby.mp4                   |          5 | happy     |\n",
      "+---------------------------------------------+------------+-----------+\n",
      "| videos\\3 motivated\\motivationalAuthor.mp4   |          4 | motivated |\n",
      "+---------------------------------------------+------------+-----------+\n",
      "| videos\\4 relaxed\\2 nature\\waterfall.mp4     |          5 | relaxed   |\n",
      "+---------------------------------------------+------------+-----------+\n",
      "| videos\\5 sad\\1 animals\\saddogs.mp4          |          5 | sad       |\n",
      "+---------------------------------------------+------------+-----------+\n",
      "| videos\\6 horror\\conjuring.mp4               |          5 | horror    |\n",
      "+---------------------------------------------+------------+-----------+\n",
      "| videos\\7 disgusted\\trainspotting.mp4        |          5 | disgusted |\n",
      "+---------------------------------------------+------------+-----------+\n",
      "| videos\\8 angry\\1 animals\\angrydogs.mp4      |          5 | angry     |\n",
      "+---------------------------------------------+------------+-----------+\n"
     ]
    }
   ],
   "source": [
    "import csv\n",
    "import os\n",
    "from tabulate import tabulate\n",
    "\n",
    "process_all = False  # Change to all to do every single graph :)\n",
    "\n",
    "# Specify the default path to the CSV file for events when running\n",
    "# single file\n",
    "csv_file_path = r'EDF+\\103918\\103918.csv'\n",
    "\n",
    "# Open the CSV file\n",
    "def process_csvs(csv_file_path=csv_file_path):\n",
    "    data = []\n",
    "    with open(csv_file_path, 'r') as file:\n",
    "        \n",
    "        # Create a CSV DictReader object\n",
    "        reader = csv.DictReader(file)\n",
    "        \n",
    "        # Iterate over the rows in the CSV file\n",
    "        for row in reader:\n",
    "            try:\n",
    "                # Check if the stimulus column is not empty\n",
    "                if row['stim']:\n",
    "                    # Extract the required columns and append to data list\n",
    "                    data.append([row['stim'], row['agree.response'], \n",
    "                        row['emotion']])\n",
    "                    \n",
    "            except KeyError as e:\n",
    "                print(f\"Column not found: {e}\")\n",
    "\n",
    "    # Print the data in a table format using tabulate\n",
    "    print(tabulate(data, headers=['Stimulus', 'Response', 'Emotion'], \n",
    "        tablefmt='grid'))\n",
    "\n",
    "            \n",
    "def find_csvs():\n",
    "    for root, dirs, files in os.walk(\".\", topdown=False):\n",
    "        for name in files:\n",
    "            if name.endswith('.csv'):\n",
    "                print('Found', os.path.join(root, name))\n",
    "                process_csvs(os.path.join(root, name))\n",
    "\n",
    "if process_all:\n",
    "    find_csvs() \n",
    "else: # We have chosen not to process all csvs, let's do only the default one\n",
    "    process_csvs()"
   ]
  },
  {
   "cell_type": "markdown",
   "metadata": {},
   "source": [
    "### Data Manipulation Options:\n",
    "\n",
    "- Rename EDF files to incorporate rating information for processing.\n",
    "- Segregate EEG segments based on ratings for analysis filtering.\n",
    "  \n",
    "In essence, we can either:\n",
    "- Include rating information in the analysis.\n",
    "- Filter files for analysis based on ratings.\n"
   ]
  }
 ],
 "metadata": {
  "kernelspec": {
   "display_name": "Python 3",
   "language": "python",
   "name": "python3"
  },
  "language_info": {
   "codemirror_mode": {
    "name": "ipython",
    "version": 3
   },
   "file_extension": ".py",
   "mimetype": "text/x-python",
   "name": "python",
   "nbconvert_exporter": "python",
   "pygments_lexer": "ipython3",
   "version": "3.12.3"
  }
 },
 "nbformat": 4,
 "nbformat_minor": 2
}
